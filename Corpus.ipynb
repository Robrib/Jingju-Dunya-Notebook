{
 "cells": [
  {
   "cell_type": "markdown",
   "metadata": {},
   "source": [
    "# Dunya Beijing Opera Collection - Corpus"
   ]
  },
  {
   "cell_type": "markdown",
   "metadata": {},
   "source": [
    "With this notebook, it is possible to download and analyse the entire corpus of Jingju in Dunya. The corpus is composed of 1698 recordings. The source of the metdata is Musicbrainz, which is imported into dunya and presented in a data model which represents the specific characteristics of this musical culture. With this notebook, it is possible to select all or part of this corpus and download the data ."
   ]
  },
  {
   "cell_type": "code",
   "execution_count": 1,
   "metadata": {},
   "outputs": [],
   "source": [
    "import collections\n",
    "import os\n",
    "\n",
    "import compmusic\n",
    "from compmusic import dunya\n",
    "from compmusic.dunya import jingju"
   ]
  },
  {
   "cell_type": "code",
   "execution_count": 2,
   "metadata": {},
   "outputs": [],
   "source": [
    "dunya.set_token('0d8cd9be63c10c5dc67f70e1052acec836de29bd') # set your own token"
   ]
  },
  {
   "cell_type": "code",
   "execution_count": 3,
   "metadata": {},
   "outputs": [],
   "source": [
    "jingju.set_collections(['40d0978b-0796-4734-9fd4-2b3ebe0f664c'])"
   ]
  },
  {
   "cell_type": "markdown",
   "metadata": {},
   "source": [
    "## Getting basic data from the collection\n",
    "You can get all recordings in the collection you have set by using ``jingju.get_recordings()``"
   ]
  },
  {
   "cell_type": "code",
   "execution_count": 4,
   "metadata": {},
   "outputs": [
    {
     "name": "stdout",
     "output_type": "stream",
     "text": [
      "This collection has 1698 recordings\n",
      "The first recording: mbid - 4eb558fa-85a5-41cb-8ca3-816b7f6c2778, title: 目连救母 【听一言不由我喜之不尽】 （胡璇）\n"
     ]
    },
    {
     "data": {
      "text/plain": [
       "[{'mbid': '4eb558fa-85a5-41cb-8ca3-816b7f6c2778',\n",
       "  'title': '目连救母 【听一言不由我喜之不尽】 （胡璇）'},\n",
       " {'mbid': '8dbb1a7e-1ade-41ad-acf1-4c45924304b2',\n",
       "  'title': '铡美案 【包龙图打坐在开封府】 （安平）'},\n",
       " {'mbid': '58ddf00f-0a4c-4b1d-bac6-589f8e31970c',\n",
       "  'title': '穆桂英挂帅 【小儿女探军情尚无音信】 （史敏）'},\n",
       " {'mbid': '3604d31b-fbd3-4040-8a6e-b426569cc8e9',\n",
       "  'title': '郑板桥 【黑云翻墨滚长天】 （李军）'},\n",
       " {'mbid': 'ca119190-ed6f-442e-a9d0-d8c5a09b70ef', 'title': '《玉堂春》'}]"
      ]
     },
     "execution_count": 4,
     "metadata": {},
     "output_type": "execute_result"
    }
   ],
   "source": [
    "recs = jingju.get_recordings()\n",
    "print('This collection has %s recordings' % len(recs))\n",
    "first = recs[0]\n",
    "print('The first recording: mbid - %s, title: %s' % (first['mbid'], first['title']))\n",
    "recs[0:5]"
   ]
  },
  {
   "cell_type": "markdown",
   "metadata": {},
   "source": [
    "There are other methods available to retrieve additional information. Documentation for these methods is available at http://dunya.compmusic.upf.edu/docs/"
   ]
  },
  {
   "cell_type": "markdown",
   "metadata": {},
   "source": [
    "To get detailed information about a recording, use `jingju.get_recording(mbid)`"
   ]
  },
  {
   "cell_type": "code",
   "execution_count": 5,
   "metadata": {},
   "outputs": [
    {
     "name": "stdout",
     "output_type": "stream",
     "text": [
      "The release which this recording belongs to: 京剧名家名剧： 白蛇传\n",
      "The performers of this recording:\n",
      "  李炳淑\n",
      "  焦宝宏\n",
      "  沈雁西\n",
      "  陆柏平\n",
      "  方小亚\n",
      "  张启洪\n",
      "Instruments played in this recording:\n",
      "  jinghu\n",
      "  bangu\n"
     ]
    },
    {
     "data": {
      "text/plain": [
       "{'instrumentalists': [{'artist': {'alias': None,\n",
       "    'mbid': 'c7e0d3f5-2379-427e-9807-fb97d7483659',\n",
       "    'name': '沈雁西'},\n",
       "   'instrument': {'mbid': '89e4a2ef-172f-4f50-a507-316917a9b98a',\n",
       "    'name': 'jinghu'}},\n",
       "  {'artist': {'alias': None,\n",
       "    'mbid': '15b4ef4b-ad03-41d6-864f-66b1c436db43',\n",
       "    'name': '焦宝宏'},\n",
       "   'instrument': {'mbid': '42349583-c10d-4c6e-b553-28d916113856',\n",
       "    'name': 'bangu'}}],\n",
       " 'mbid': '4ae1d3e8-5c83-4567-965d-280aaac95ad0',\n",
       " 'performers': [{'alias': 'Li Bingshu',\n",
       "   'mbid': '80c8cd8b-db54-4c08-882d-8160192f1290',\n",
       "   'name': '李炳淑'},\n",
       "  {'alias': None,\n",
       "   'mbid': '15b4ef4b-ad03-41d6-864f-66b1c436db43',\n",
       "   'name': '焦宝宏'},\n",
       "  {'alias': None,\n",
       "   'mbid': 'c7e0d3f5-2379-427e-9807-fb97d7483659',\n",
       "   'name': '沈雁西'},\n",
       "  {'alias': 'Lu Baiping',\n",
       "   'mbid': '12ee725e-ca6a-45d3-a4b4-e5a5969f062a',\n",
       "   'name': '陆柏平'},\n",
       "  {'alias': 'Fang Xiaoya',\n",
       "   'mbid': '123c78b2-9444-492b-8b0f-406436a0c232',\n",
       "   'name': '方小亚'},\n",
       "  {'alias': 'Zhang Qihong',\n",
       "   'mbid': 'f29163e5-bdac-48ff-92a5-08cf412369b7',\n",
       "   'name': '张启洪'}],\n",
       " 'release': [{'mbid': '21d03468-801d-4df9-bbf5-74966c3b1066',\n",
       "   'title': '京剧名家名剧： 白蛇传'}],\n",
       " 'shengqiangbanshi': [],\n",
       " 'title': '游湖',\n",
       " 'work': {'mbid': 'd67ca8b9-8c81-417e-9330-cddb8e94cc8c', 'title': '《白蛇传·游湖》'}}"
      ]
     },
     "execution_count": 5,
     "metadata": {},
     "output_type": "execute_result"
    }
   ],
   "source": [
    "rec = jingju.get_recording('4ae1d3e8-5c83-4567-965d-280aaac95ad0')\n",
    "print('The release which this recording belongs to: %s' % rec['release'][0]['title'])\n",
    "print('The performers of this recording:')\n",
    "for perf in rec['performers']:\n",
    "    print(' ', perf['name'])\n",
    "print('Instruments played in this recording:')\n",
    "for instrumentalist in rec['instrumentalists']:\n",
    "    print(' ', instrumentalist['instrument']['name'])\n",
    "rec"
   ]
  },
  {
   "cell_type": "markdown",
   "metadata": {},
   "source": [
    "# Artist analysis\n",
    "\n",
    "We have over 300 artists in the database, including both actors and instrumentalists. We can collect all of the metadata that we have for each artist"
   ]
  },
  {
   "cell_type": "markdown",
   "metadata": {},
   "source": [
    "Actors have a particular _role type_ in which they perform. We can group these artists by their roletype, listing the top few artists for each roletype (ordered by the number of recordings of theirs that we have in the collection)"
   ]
  },
  {
   "cell_type": "code",
   "execution_count": 6,
   "metadata": {},
   "outputs": [],
   "source": [
    "artist_list = jingju.get_artists()\n",
    "artists = {}\n",
    "for artist in artist_list:\n",
    "    artists[artist['mbid']] = jingju.get_artist(artist['mbid'])\n",
    "    \n",
    "actors = [a for a in artists.values() if a['role_type']]\n",
    "instrumentalists = [a for a in artists.values() if a['instrument']]"
   ]
  },
  {
   "cell_type": "markdown",
   "metadata": {},
   "source": [
    "## Count  recordings by role type\n",
    "A brief introduction of role type in Jingju: https://en.wikipedia.org/wiki/Peking_opera#Classification_of_performers_and_roles\n",
    "\n",
    "Here are role types in Jingju dataset of Dunya:\n",
    "\n",
    "| name | transliteration |\n",
    "| :----: | :--------------- |\n",
    "| 旦   |  dan            |\n",
    "| 老旦 |  laodan         |\n",
    "| 小生 | xiaosheng       |\n",
    "| 老生 | laosheng        |\n",
    "| 净   | jing            |\n",
    "| 末   | mo              |\n",
    "\n",
    "We can get a list of all recordings and the actors who perform them, and find all recordings by all actors who perform a given role type."
   ]
  },
  {
   "cell_type": "code",
   "execution_count": null,
   "metadata": {},
   "outputs": [],
   "source": [
    "# Detailed information for all recordings\n",
    "recordings = {}\n",
    "recording_list = jingju.get_recordings()\n",
    "for r in recording_list:\n",
    "    recordings[r['mbid']] = jingju.get_recording(r['mbid'])"
   ]
  },
  {
   "cell_type": "code",
   "execution_count": null,
   "metadata": {},
   "outputs": [],
   "source": [
    "# Map a roletype to the number of recordings by all the actors who perform this type\n",
    "rt_artist = collections.defaultdict(collections.Counter)\n",
    "for a in actors:\n",
    "    roletype = a['role_type']\n",
    "    rt_artist[roletype['transliteration']][a['mbid']] = len(a['recordings'])"
   ]
  },
  {
   "cell_type": "code",
   "execution_count": null,
   "metadata": {},
   "outputs": [],
   "source": [
    "# Show all roletypes and the top perform actors for that type\n",
    "for rt, rtas in rt_artist.items():\n",
    "    print('Roletype: {}'.format(rt))\n",
    "    print('  Number of artists: {}'.format(len(rtas)))\n",
    "    top_artists = rtas.most_common(2)\n",
    "    print('  Top artists')\n",
    "    for a, numrec in top_artists:\n",
    "        artist = artists[a]\n",
    "        print('    {} [ {}, https://musicbrainz.org/artist/{} ] ({} recordings)'.format(artist['name'], artist['alias'], a, numrec))"
   ]
  },
  {
   "cell_type": "markdown",
   "metadata": {},
   "source": [
    "We can select all of the recordings where the actor performs a given role type"
   ]
  },
  {
   "cell_type": "code",
   "execution_count": null,
   "metadata": {},
   "outputs": [],
   "source": [
    "def get_recordings_by_role_type(recordings, artists, role_type):\n",
    "    rec_set = set()\n",
    "    for recid, recording in recordings.items():\n",
    "        for perf in recording['performers']:\n",
    "            artist_mbid = perf['mbid']\n",
    "            artist = artists[artist_mbid]\n",
    "            if artist['role_type'] and artist['role_type']['name'] == role_type:\n",
    "                rec_set.add(recid)\n",
    "    return rec_set"
   ]
  },
  {
   "cell_type": "code",
   "execution_count": null,
   "metadata": {},
   "outputs": [],
   "source": [
    "xiaosheng_recs = get_recordings_by_role_type(recordings, artists, u'小生')\n",
    "print('Number of recordings with roletype xiaosheng/小生: {}'.format(len(xiaosheng_recs)))"
   ]
  },
  {
   "cell_type": "markdown",
   "metadata": {},
   "source": [
    "## Instrumentalists\n",
    "\n",
    "We can see which instrumentalists have played with the largest number of distinct actors"
   ]
  },
  {
   "cell_type": "code",
   "execution_count": null,
   "metadata": {},
   "outputs": [],
   "source": [
    "instrumentalist_actor_count = collections.Counter()\n",
    "for artist in instrumentalists:\n",
    "    inst_actors = set()\n",
    "    artist_recordings = artist['recordings']\n",
    "    for rec in artist_recordings:\n",
    "        recording = recordings[rec['mbid']]\n",
    "        for performer in recording['performers']:\n",
    "            inst_actors.add(performer['mbid'])\n",
    "    instrumentalist_actor_count[artist['mbid']] = len(inst_actors)"
   ]
  },
  {
   "cell_type": "code",
   "execution_count": null,
   "metadata": {},
   "outputs": [],
   "source": [
    "print('Instrumentalists who have played with the most actors')\n",
    "for instrumentalist_mbid, count in instrumentalist_actor_count.most_common(10):\n",
    "    artist = artists[instrumentalist_mbid]\n",
    "    print('{} [ {} https://musicbrainz.org/artist/{} ] ({} actors)'.format(artist['name'], artist['alias'], artist['mbid'], count))"
   ]
  },
  {
   "cell_type": "markdown",
   "metadata": {},
   "source": [
    "# Recording analysis\n",
    "\n",
    "Recordings are characterised by a shengquiang and banshi. We can find the most common ones in the collection of recordings that we have."
   ]
  },
  {
   "cell_type": "code",
   "execution_count": null,
   "metadata": {},
   "outputs": [],
   "source": [
    "shb_count = collections.Counter()\n",
    "for mbid, r in recordings.items():\n",
    "    for s in r['shengqiangbanshi']:\n",
    "        shb_count[s['name']] += 1"
   ]
  },
  {
   "cell_type": "code",
   "execution_count": null,
   "metadata": {},
   "outputs": [],
   "source": [
    "for shb, count in shb_count.most_common():\n",
    "    print(  '{}: {} recording{}'.format(shb, count, '' if count == 1 else 's'))"
   ]
  },
  {
   "cell_type": "code",
   "execution_count": null,
   "metadata": {},
   "outputs": [],
   "source": [
    "def get_recordings_for_shengqiangbanshi(shengqiangbanshi):\n",
    "    ret = []\n",
    "    for mbid, r in recordings.items():\n",
    "        for s in r['shengqiangbanshi']:\n",
    "            if s['name'] == shengqiangbanshi:\n",
    "                ret.append(r)\n",
    "    return ret"
   ]
  },
  {
   "cell_type": "code",
   "execution_count": null,
   "metadata": {},
   "outputs": [],
   "source": [
    "xipi_duoban_recordings = get_recordings_for_shengqiangbanshi('xipi duoban')\n",
    "xipi_duoban_recordings"
   ]
  },
  {
   "cell_type": "markdown",
   "metadata": {},
   "source": [
    "## Download recordings by mbids"
   ]
  },
  {
   "cell_type": "markdown",
   "metadata": {},
   "source": [
    "You can download recordings by using ``jingju.download_mp3(recordingid, location)``, the parameter *recordingid* is a mbid and the parameter *location* is where to save mp3s\n"
   ]
  },
  {
   "cell_type": "code",
   "execution_count": null,
   "metadata": {},
   "outputs": [],
   "source": [
    "os.mkdir('./xiaosheng_recordings')\n",
    "for rec in xiaosheng_recs:\n",
    "    jingju.download_mp3(rec, './xiaosheng_recordings')"
   ]
  }
 ],
 "metadata": {
  "kernelspec": {
   "display_name": "Python 3",
   "language": "python",
   "name": "python3"
  },
  "language_info": {
   "codemirror_mode": {
    "name": "ipython",
    "version": 3
   },
   "file_extension": ".py",
   "mimetype": "text/x-python",
   "name": "python",
   "nbconvert_exporter": "python",
   "pygments_lexer": "ipython3",
   "version": "3.5.2"
  }
 },
 "nbformat": 4,
 "nbformat_minor": 2
}
