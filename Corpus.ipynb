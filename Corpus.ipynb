{
 "cells": [
  {
   "cell_type": "markdown",
   "metadata": {},
   "source": [
    "# Dunya Beijing Opera Collection - Corpus"
   ]
  },
  {
   "cell_type": "markdown",
   "metadata": {},
   "source": [
    "With this notebook, it is possible to download and analyse the entire corpus of Jingju in Dunya. The corpus is composed by __ recordings and their relative metadata coming from Dunya. Most of them also have metadata coming from Musicbrainz. With this notebook, it is possible to select all or part of this corpus and downloading the data .\n",
    "\n"
   ]
  },
  {
   "cell_type": "code",
   "execution_count": null,
   "metadata": {},
   "outputs": [],
   "source": [
    "import compmusic\n",
    "from compmusic import dunya as dn\n",
    "from compmusic.dunya import jingju\n",
    "from compmusic.dunya import conn\n",
    "import os"
   ]
  },
  {
   "cell_type": "code",
   "execution_count": null,
   "metadata": {},
   "outputs": [],
   "source": [
    "dn.set_token('') # set your own token"
   ]
  },
  {
   "cell_type": "code",
   "execution_count": null,
   "metadata": {},
   "outputs": [],
   "source": [
    "jingju.set_collections(['40d0978b-0796-4734-9fd4-2b3ebe0f664c'])"
   ]
  },
  {
   "cell_type": "markdown",
   "metadata": {},
   "source": [
    "## Get all recordings in the collection\n",
    "You can get all recordings in the collection you have set by using ``jingju.get_recordings()``"
   ]
  },
  {
   "cell_type": "code",
   "execution_count": null,
   "metadata": {},
   "outputs": [],
   "source": [
    "recs = jingju.get_recordings()\n",
    "print 'This collection has %s recordings' % len(recs)\n",
    "print 'The first recording: mbid - %s, title: %s' % (recs[0]['mbid'], recs[0]['title'])\n",
    "recs[0:5]"
   ]
  },
  {
   "cell_type": "markdown",
   "metadata": {},
   "source": [
    "Also, here are methods to help you get all releases, works, artists or instruments in the collection:\n",
    "\n",
    "``jingju.get_releases``\n",
    "\n",
    "``jingju.get_works``\n",
    "\n",
    "``jingju.get_artists``\n",
    "\n",
    "``jingju.get_instruments``"
   ]
  },
  {
   "cell_type": "markdown",
   "metadata": {},
   "source": [
    "## Get a certain recording in the collection\n",
    "You can get all recordings in the collection you have set by using ``jingju.get_recording(rmbid)``, the parameter in a mbid."
   ]
  },
  {
   "cell_type": "code",
   "execution_count": null,
   "metadata": {},
   "outputs": [],
   "source": [
    "rec = jingju.get_recording('4ae1d3e8-5c83-4567-965d-280aaac95ad0')\n",
    "print 'The release which this recording belongs to: %s' % rec['release'][0]['title']\n",
    "print 'The performers of this recording:'\n",
    "for perf in rec['performers']:\n",
    "    print perf['name']\n",
    "print 'Instruments played in this recording:'\n",
    "for instrumentalist in rec['instrumentalists']:\n",
    "    print instrumentalist['instrument']['name']\n",
    "rec"
   ]
  },
  {
   "cell_type": "markdown",
   "metadata": {},
   "source": [
    "You should notice that not all recordings have instrumentalists. And you can get a certain release, work, artist and instrument by using:\n",
    "\n",
    "``jingju.get_release(mbid)``\n",
    "\n",
    "``jingju.get_work(wmbid)``\n",
    "\n",
    "``jingju.get_artist(ambid)``\n",
    "\n",
    "``jingju.get_instrument(iid)``\n",
    "\n",
    "The parameter for each method is a mbid or an uuid."
   ]
  },
  {
   "cell_type": "markdown",
   "metadata": {},
   "source": [
    "## Count  recordings by role type\n",
    "A brief introduction of role type in Jingju: https://en.wikipedia.org/wiki/Peking_opera#Classification_of_performers_and_roles\n",
    "\n",
    "Here are role types in Jingju dataset of Dunya:\n",
    "\n",
    "| name | transliteration |\n",
    "| :----: | :--------------- |\n",
    "| 旦   |  dan            |\n",
    "| 老旦 |  laodan         |\n",
    "| 小生 | xiaosheng       |\n",
    "| 老生 | laosheng        |\n",
    "| 净   | jing            |\n",
    "| 末   | mo              |"
   ]
  },
  {
   "cell_type": "code",
   "execution_count": null,
   "metadata": {},
   "outputs": [],
   "source": [
    "jingju.get_artist('80c8cd8b-db54-4c08-882d-8160192f1290')"
   ]
  },
  {
   "cell_type": "code",
   "execution_count": null,
   "metadata": {},
   "outputs": [],
   "source": [
    "def get_rec_by_role_type(role_type):\n",
    "    rec_set = set()\n",
    "    recs = jingju.get_recordings()\n",
    "    for rec in recs:\n",
    "        recid = rec['mbid']\n",
    "        rec_detail = jingju.get_recording(recid)\n",
    "        for perf in rec_detail['performers']:\n",
    "            ambid = perf['mbid']\n",
    "            artist = jingju.get_artist(ambid)\n",
    "            if artist['role_type'] and artist['role_type']['name'] == role_type:\n",
    "                rec_set.add(rec['mbid'])\n",
    "    return rec_set\n",
    "xiaosheng_recs = get_rec_by_role_type(u'小生')"
   ]
  },
  {
   "cell_type": "code",
   "execution_count": null,
   "metadata": {},
   "outputs": [],
   "source": [
    "xiaosheng_recs"
   ]
  },
  {
   "cell_type": "markdown",
   "metadata": {},
   "source": [
    "## Download recordings by mbids"
   ]
  },
  {
   "cell_type": "markdown",
   "metadata": {},
   "source": [
    "You can download recordings by using ``jingju.download_mp3(recordingid, location)``, the parameter *recordingid* is a mbid and the parameter *location* is where to save mp3s\n"
   ]
  },
  {
   "cell_type": "code",
   "execution_count": null,
   "metadata": {},
   "outputs": [],
   "source": [
    "os.mkdir('./xiaosheng_recordings')\n",
    "for rec in xiaosheng_recs:\n",
    "    jingju.download_mp3(rec, './xiaosheng_recordings')"
   ]
  }
 ],
 "metadata": {
  "kernelspec": {
   "display_name": "Python [conda env:pycompmusic]",
   "language": "python",
   "name": "conda-env-pycompmusic-py"
  },
  "language_info": {
   "codemirror_mode": {
    "name": "ipython",
    "version": 2
   },
   "file_extension": ".py",
   "mimetype": "text/x-python",
   "name": "python",
   "nbconvert_exporter": "python",
   "pygments_lexer": "ipython2",
   "version": "2.7.15"
  }
 },
 "nbformat": 4,
 "nbformat_minor": 2
}
