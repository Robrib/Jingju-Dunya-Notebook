{
 "cells": [
  {
   "cell_type": "markdown",
   "metadata": {},
   "source": [
    "# The Jingju Music Corpus"
   ]
  },
  {
   "cell_type": "markdown",
   "metadata": {},
   "source": [
    "With this notebook, it is possible to download and analyse the entire Jingju Music Corpus in Dunya. The corpus is composed of 1698 recordings. The source of the metdata is Musicbrainz, which is imported into Dunya and stored in a data model which represents the specific characteristics of this musical culture. With this notebook, it is possible to select all or part of this corpus and download the data.\n",
    "\n",
    "To be able to download sounds from Dunya, you need to have a user and obtain an API authentication key (token). Please create a user: https://dunya.compmusic.upf.edu/social/register/ In order to get your API token you have to log in to dunya and then go to your profile where you will find your token."
   ]
  },
  {
   "cell_type": "code",
   "execution_count": 1,
   "metadata": {},
   "outputs": [],
   "source": [
    "import collections\n",
    "import os\n",
    "\n",
    "import compmusic\n",
    "from compmusic import dunya\n",
    "from compmusic.dunya import jingju"
   ]
  },
  {
   "cell_type": "code",
   "execution_count": 2,
   "metadata": {},
   "outputs": [],
   "source": [
    "# Set your token here from https://dunya.compmusic.upf.edu/user/profile/\n",
    "dunya.set_token('')"
   ]
  },
  {
   "cell_type": "code",
   "execution_count": 3,
   "metadata": {},
   "outputs": [],
   "source": [
    "jingju.set_collections(['40d0978b-0796-4734-9fd4-2b3ebe0f664c'])"
   ]
  },
  {
   "cell_type": "markdown",
   "metadata": {},
   "source": [
    "## Getting basic data from the collection\n",
    "You can get all recordings in the collection you have set by using ``jingju.get_recordings()``"
   ]
  },
  {
   "cell_type": "code",
   "execution_count": 4,
   "metadata": {},
   "outputs": [
    {
     "name": "stdout",
     "output_type": "stream",
     "text": [
      "This collection has 1698 recordings\n",
      "The first recording: mbid - 4eb558fa-85a5-41cb-8ca3-816b7f6c2778, title: 目连救母 【听一言不由我喜之不尽】 （胡璇）\n"
     ]
    },
    {
     "data": {
      "text/plain": [
       "[{'mbid': '4eb558fa-85a5-41cb-8ca3-816b7f6c2778',\n",
       "  'title': '目连救母 【听一言不由我喜之不尽】 （胡璇）'},\n",
       " {'mbid': '8dbb1a7e-1ade-41ad-acf1-4c45924304b2',\n",
       "  'title': '铡美案 【包龙图打坐在开封府】 （安平）'},\n",
       " {'mbid': '58ddf00f-0a4c-4b1d-bac6-589f8e31970c',\n",
       "  'title': '穆桂英挂帅 【小儿女探军情尚无音信】 （史敏）'},\n",
       " {'mbid': '3604d31b-fbd3-4040-8a6e-b426569cc8e9',\n",
       "  'title': '郑板桥 【黑云翻墨滚长天】 （李军）'},\n",
       " {'mbid': 'ca119190-ed6f-442e-a9d0-d8c5a09b70ef', 'title': '《玉堂春》'}]"
      ]
     },
     "execution_count": 4,
     "metadata": {},
     "output_type": "execute_result"
    }
   ],
   "source": [
    "recs = jingju.get_recordings()\n",
    "print('This collection has %s recordings' % len(recs))\n",
    "first = recs[0]\n",
    "print('The first recording: mbid - %s, title: %s' % (first['mbid'], first['title']))\n",
    "recs[0:5]"
   ]
  },
  {
   "cell_type": "markdown",
   "metadata": {},
   "source": [
    "There are other methods available to retrieve additional information. Documentation for these methods is available at http://dunya.compmusic.upf.edu/docs/"
   ]
  },
  {
   "cell_type": "markdown",
   "metadata": {},
   "source": [
    "To get detailed information about a recording, use `jingju.get_recording(mbid)`"
   ]
  },
  {
   "cell_type": "code",
   "execution_count": 5,
   "metadata": {},
   "outputs": [
    {
     "name": "stdout",
     "output_type": "stream",
     "text": [
      "The release which this recording belongs to: 京剧名家名剧： 白蛇传\n",
      "The performers of this recording:\n",
      "  李炳淑 [Li Bingshu]\n",
      "  焦宝宏 [None]\n",
      "  沈雁西 [None]\n",
      "  陆柏平 [Lu Baiping]\n",
      "  方小亚 [Fang Xiaoya]\n",
      "  张启洪 [Zhang Qihong]\n",
      "Instruments played in this recording:\n",
      "  jinghu\n",
      "  bangu\n"
     ]
    },
    {
     "data": {
      "text/plain": [
       "{'instrumentalists': [{'artist': {'alias': None,\n",
       "    'mbid': 'c7e0d3f5-2379-427e-9807-fb97d7483659',\n",
       "    'name': '沈雁西'},\n",
       "   'instrument': {'mbid': '89e4a2ef-172f-4f50-a507-316917a9b98a',\n",
       "    'name': 'jinghu'}},\n",
       "  {'artist': {'alias': None,\n",
       "    'mbid': '15b4ef4b-ad03-41d6-864f-66b1c436db43',\n",
       "    'name': '焦宝宏'},\n",
       "   'instrument': {'mbid': '42349583-c10d-4c6e-b553-28d916113856',\n",
       "    'name': 'bangu'}}],\n",
       " 'mbid': '4ae1d3e8-5c83-4567-965d-280aaac95ad0',\n",
       " 'performers': [{'alias': 'Li Bingshu',\n",
       "   'mbid': '80c8cd8b-db54-4c08-882d-8160192f1290',\n",
       "   'name': '李炳淑'},\n",
       "  {'alias': None,\n",
       "   'mbid': '15b4ef4b-ad03-41d6-864f-66b1c436db43',\n",
       "   'name': '焦宝宏'},\n",
       "  {'alias': None,\n",
       "   'mbid': 'c7e0d3f5-2379-427e-9807-fb97d7483659',\n",
       "   'name': '沈雁西'},\n",
       "  {'alias': 'Lu Baiping',\n",
       "   'mbid': '12ee725e-ca6a-45d3-a4b4-e5a5969f062a',\n",
       "   'name': '陆柏平'},\n",
       "  {'alias': 'Fang Xiaoya',\n",
       "   'mbid': '123c78b2-9444-492b-8b0f-406436a0c232',\n",
       "   'name': '方小亚'},\n",
       "  {'alias': 'Zhang Qihong',\n",
       "   'mbid': 'f29163e5-bdac-48ff-92a5-08cf412369b7',\n",
       "   'name': '张启洪'}],\n",
       " 'release': [{'mbid': '21d03468-801d-4df9-bbf5-74966c3b1066',\n",
       "   'title': '京剧名家名剧： 白蛇传'}],\n",
       " 'shengqiangbanshi': [],\n",
       " 'title': '游湖',\n",
       " 'work': {'mbid': 'd67ca8b9-8c81-417e-9330-cddb8e94cc8c', 'title': '《白蛇传·游湖》'}}"
      ]
     },
     "execution_count": 5,
     "metadata": {},
     "output_type": "execute_result"
    }
   ],
   "source": [
    "rec = jingju.get_recording('4ae1d3e8-5c83-4567-965d-280aaac95ad0')\n",
    "print('The release which this recording belongs to: %s' % rec['release'][0]['title'])\n",
    "print('The performers of this recording:')\n",
    "for perf in rec['performers']:\n",
    "    print('  {} [{}]'.format(perf['name'], perf['alias']))\n",
    "print('Instruments played in this recording:')\n",
    "for instrumentalist in rec['instrumentalists']:\n",
    "    print(' ', instrumentalist['instrument']['name'])\n",
    "rec"
   ]
  },
  {
   "cell_type": "markdown",
   "metadata": {},
   "source": [
    "# Artist analysis\n",
    "\n",
    "We have over 300 artists in the database, including both actors and instrumentalists. We can collect all of the metadata that we have for each artist"
   ]
  },
  {
   "cell_type": "code",
   "execution_count": 6,
   "metadata": {},
   "outputs": [],
   "source": [
    "artist_list = jingju.get_artists(artist_detail=True)\n",
    "artists = {}\n",
    "for artist in artist_list:\n",
    "    artists[artist['mbid']] = artist\n",
    "    \n",
    "actors = [a for a in artists.values() if a['role_type']]\n",
    "instrumentalists = [a for a in artists.values() if a['instrument']]"
   ]
  },
  {
   "cell_type": "markdown",
   "metadata": {},
   "source": [
    "## Count  recordings by role type\n",
    "A brief introduction of role type in Jingju: https://en.wikipedia.org/wiki/Peking_opera#Classification_of_performers_and_roles\n",
    "\n",
    "Actors and actresses in jingju specialize in the performance of a role type. These acting categories determine the set of conventions each artist should master, including those related to singing. Different role types emphasize different performance skills. Those who focus on singing are 老生 laosheng, 旦 dan, 净 jing, 小生 xiaosheng, and 老旦 laodan.\n",
    "\n",
    "We can get a list of all recordings and the actors who perform them, and find all recordings by all actors who perform a given role type."
   ]
  },
  {
   "cell_type": "code",
   "execution_count": 7,
   "metadata": {},
   "outputs": [],
   "source": [
    "# Detailed information for all recordings\n",
    "recordings = {}\n",
    "recording_list = jingju.get_recordings(recording_detail=True)\n",
    "for r in recording_list:\n",
    "    recordings[r['mbid']] = r"
   ]
  },
  {
   "cell_type": "markdown",
   "metadata": {},
   "source": [
    "We can group these artists by their roletype, listing the top few artists for each role type (ordered by the number of recordings of theirs that we have in the collection)"
   ]
  },
  {
   "cell_type": "code",
   "execution_count": 8,
   "metadata": {},
   "outputs": [],
   "source": [
    "# Map a roletype to the number of recordings by all the actors who perform this type\n",
    "rt_artist = collections.defaultdict(collections.Counter)\n",
    "for a in actors:\n",
    "    roletype = a['role_type']\n",
    "    rt_artist[roletype['transliteration']][a['mbid']] = len(a['recordings'])"
   ]
  },
  {
   "cell_type": "code",
   "execution_count": 9,
   "metadata": {},
   "outputs": [
    {
     "name": "stdout",
     "output_type": "stream",
     "text": [
      "Roletype: jing\n",
      "  Number of artists: 8\n",
      "  Top artists\n",
      "    孟广禄 [ Meng Guanglu, https://musicbrainz.org/artist/3583396f-8a8c-4dd7-8deb-da79cf268c11 ] (64 recordings)\n",
      "    安平 [ An Ping, https://musicbrainz.org/artist/24c43dbd-ef9b-47cd-bb6a-7118f7a78c7a ] (20 recordings)\n",
      "Roletype: chou\n",
      "  Number of artists: 4\n",
      "  Top artists\n",
      "    徐孟珂 [ Xu Mengke, https://musicbrainz.org/artist/c48b1b38-7555-40d1-b5ca-01a5e4edd834 ] (4 recordings)\n",
      "    严庆谷 [ Yan Qinggu, https://musicbrainz.org/artist/a963bdbd-dfa0-493c-a5a5-31b4c2b690f4 ] (4 recordings)\n",
      "Roletype: laosheng\n",
      "  Number of artists: 25\n",
      "  Top artists\n",
      "    于魁智 [ Yu Kuizhi, https://musicbrainz.org/artist/ee527a26-dfce-48e3-851d-fb6c2d223c9a ] (93 recordings)\n",
      "    朱宝光 [ Zhu Baoguang, https://musicbrainz.org/artist/dcb60e61-a1a6-4524-8b7a-2df4b0521e22 ] (82 recordings)\n",
      "Roletype: laodan\n",
      "  Number of artists: 11\n",
      "  Top artists\n",
      "    赵葆秀 [ Zhao Baoxiu, https://musicbrainz.org/artist/c192c1ad-fe47-4ae3-b88f-3aeb1bd72cc4 ] (147 recordings)\n",
      "    吕昕 [ Lü Xin, https://musicbrainz.org/artist/05ea735b-0183-4b2a-a347-10c976f06a28 ] (48 recordings)\n",
      "Roletype: dan\n",
      "  Number of artists: 34\n",
      "  Top artists\n",
      "    王蓉蓉 [ Wang Rongrong, https://musicbrainz.org/artist/c6d8ed51-2265-45d0-b132-91f168361052 ] (114 recordings)\n",
      "    李胜素 [ Li Shengsu, https://musicbrainz.org/artist/947a82fc-4394-4861-ad7c-35d51dd2d182 ] (61 recordings)\n",
      "Roletype: xiaosheng\n",
      "  Number of artists: 10\n",
      "  Top artists\n",
      "    李宏图 [ Li Hongtu, https://musicbrainz.org/artist/7a9ba276-138f-4d0d-96b2-daeaa8b54f19 ] (15 recordings)\n",
      "    包飞 [ Bao Fei, https://musicbrainz.org/artist/86a681ba-3f5a-4534-aa80-a1d90f804bcf ] (13 recordings)\n"
     ]
    }
   ],
   "source": [
    "# Show all roletypes and the top performing actors for that type\n",
    "for rt, rtas in rt_artist.items():\n",
    "    print('Roletype: {}'.format(rt))\n",
    "    print('  Number of artists: {}'.format(len(rtas)))\n",
    "    top_artists = rtas.most_common(2)\n",
    "    print('  Top artists')\n",
    "    for a, numrec in top_artists:\n",
    "        artist = artists[a]\n",
    "        print('    {} [ {}, https://musicbrainz.org/artist/{} ] ({} recordings)'.format(artist['name'], artist['alias'], a, numrec))"
   ]
  },
  {
   "cell_type": "markdown",
   "metadata": {},
   "source": [
    "We can select all of the recordings where the actor performs a given role type"
   ]
  },
  {
   "cell_type": "code",
   "execution_count": 10,
   "metadata": {},
   "outputs": [],
   "source": [
    "def get_recordings_by_role_type(recordings, artists, role_type):\n",
    "    rec_set = set()\n",
    "    for recid, recording in recordings.items():\n",
    "        for perf in recording['performers']:\n",
    "            artist_mbid = perf['mbid']\n",
    "            artist = artists[artist_mbid]\n",
    "            if artist['role_type'] and artist['role_type']['name'] == role_type:\n",
    "                rec_set.add(recid)\n",
    "    return rec_set"
   ]
  },
  {
   "cell_type": "code",
   "execution_count": 11,
   "metadata": {},
   "outputs": [
    {
     "name": "stdout",
     "output_type": "stream",
     "text": [
      "Number of recordings with roletype xiaosheng/小生: 71\n"
     ]
    }
   ],
   "source": [
    "xiaosheng_recs = get_recordings_by_role_type(recordings, artists, u'小生')\n",
    "print('Number of recordings with roletype xiaosheng/小生: {}'.format(len(xiaosheng_recs)))"
   ]
  },
  {
   "cell_type": "markdown",
   "metadata": {},
   "source": [
    "## Instrumentalists\n",
    "\n",
    "We can see which instrumentalists have played with the largest number of distinct actors"
   ]
  },
  {
   "cell_type": "code",
   "execution_count": 12,
   "metadata": {},
   "outputs": [],
   "source": [
    "instrumentalist_actor_count = collections.Counter()\n",
    "for artist in instrumentalists:\n",
    "    inst_actors = set()\n",
    "    artist_recordings = artist['recordings']\n",
    "    for rec in artist_recordings:\n",
    "        recording = recordings[rec['mbid']]\n",
    "        for performer in recording['performers']:\n",
    "            inst_actors.add(performer['mbid'])\n",
    "    instrumentalist_actor_count[artist['mbid']] = len(inst_actors)"
   ]
  },
  {
   "cell_type": "code",
   "execution_count": 13,
   "metadata": {},
   "outputs": [
    {
     "name": "stdout",
     "output_type": "stream",
     "text": [
      "Instrumentalists who have played with the most actors\n",
      "胡希芳 [ Hu Xifang https://musicbrainz.org/artist/3b3aa74a-190d-46d5-af76-9230bbe9db3b ] (27 actors)\n",
      "赵旭 [ Zhao Xu https://musicbrainz.org/artist/19c34660-fe86-4a80-8d1f-4c8cd5dae46c ] (26 actors)\n",
      "尚东辉 [ Shang Donghui https://musicbrainz.org/artist/9962b7a5-796b-47b1-baf8-8bf7e17e0161 ] (25 actors)\n",
      "赵琪 [ Zhao Qi https://musicbrainz.org/artist/45ca544b-360e-4f1f-96f9-d8a623bb2247 ] (25 actors)\n",
      "叶铁森 [ Ye Tiesen https://musicbrainz.org/artist/26ac0b37-7004-4c3d-987b-c85b060eabb3 ] (25 actors)\n",
      "霍建华 [ Huo Jianhua https://musicbrainz.org/artist/96269b3a-48bf-4533-a562-4499d6c9571a ] (25 actors)\n",
      "崔玉坤 [ Cui Yukun https://musicbrainz.org/artist/678d3efd-b42c-4efe-a58e-af87c5dde89b ] (25 actors)\n",
      "李金平 [ Li Jinping https://musicbrainz.org/artist/26e0046b-b82c-4470-9a02-c1f05406dcd8 ] (24 actors)\n",
      "谢温之 [ Xie Wenzhi https://musicbrainz.org/artist/cda852a7-6776-403a-bf00-4607ad6f93f7 ] (23 actors)\n",
      "张顺翔 [ Zhang Shunxiang https://musicbrainz.org/artist/5b19e243-cf09-4fd4-a8b8-460eaff99e1e ] (22 actors)\n"
     ]
    }
   ],
   "source": [
    "print('Instrumentalists who have played with the most actors')\n",
    "for instrumentalist_mbid, count in instrumentalist_actor_count.most_common(10):\n",
    "    artist = artists[instrumentalist_mbid]\n",
    "    print('{} [ {} https://musicbrainz.org/artist/{} ] ({} actors)'.format(artist['name'], artist['alias'], artist['mbid'], count))"
   ]
  },
  {
   "cell_type": "markdown",
   "metadata": {},
   "source": [
    "# Obtaining information about _shengqiang_ and _banshi_\n",
    "\n",
    "Music in traditional jingju is arranged according to a series of orally transmitted creative principles. Among them, 声腔 shengqiang mainly accounts for the melodic material, and 板式 banshi mainly accounts for the metre and tempo in which this material is rendered. Recordings in the corpus are tagged with the corresponding information about shengqiang and banshi. Each tag is formed by a combination of a particular shengqiang and banshi. Since it is common that one aria is arranged to more than one banshi, most recordings have more than one shengqiangbanshi tag."
   ]
  },
  {
   "cell_type": "code",
   "execution_count": 14,
   "metadata": {},
   "outputs": [],
   "source": [
    "shb_count = collections.Counter()\n",
    "for mbid, r in recordings.items():\n",
    "    for s in r['shengqiangbanshi']:\n",
    "        shb_count[s['name']] += 1"
   ]
  },
  {
   "cell_type": "code",
   "execution_count": 15,
   "metadata": {},
   "outputs": [
    {
     "name": "stdout",
     "output_type": "stream",
     "text": [
      "二黄原板: 310 recordings\n",
      "erhuang yuanban: 306 recordings\n",
      "xipi liushui: 258 recordings\n",
      "西皮流水: 258 recordings\n",
      "xipi yuanban: 238 recordings\n",
      "西皮原板: 238 recordings\n",
      "西皮导板: 237 recordings\n",
      "xipi daoban: 234 recordings\n",
      "西皮散板: 198 recordings\n",
      "xipi sanban: 197 recordings\n",
      "西皮摇板: 187 recordings\n",
      "xipi yaoban: 185 recordings\n",
      "西皮二六: 182 recordings\n",
      "xipi er'liu: 177 recordings\n",
      "二黄散板: 176 recordings\n",
      "erhuang sanban: 174 recordings\n",
      "二黄慢板: 172 recordings\n",
      "erhuang manban: 170 recordings\n",
      "西皮快板: 147 recordings\n",
      "xipi kuaiban: 147 recordings\n",
      "二黄导板: 130 recordings\n",
      "erhuang daoban: 129 recordings\n",
      "西皮慢板: 108 recordings\n",
      "xipi manban: 105 recordings\n",
      "二黄回龙: 98 recordings\n",
      "erhuang huilong: 96 recordings\n",
      "fan'erhuang manban: 82 recordings\n",
      "反二黄慢板: 82 recordings\n",
      "反二黄原板: 79 recordings\n",
      "fan'erhuang yuanban: 79 recordings\n",
      "sipingdiao: 57 recordings\n",
      "四平调: 57 recordings\n",
      "二黄快三眼: 52 recordings\n",
      "erhuang kuaisanyan: 52 recordings\n",
      "nanbangzi: 50 recordings\n",
      "西皮三眼: 49 recordings\n",
      "南梆子: 49 recordings\n",
      "xipi sanyan: 49 recordings\n",
      "fan'erhuang sanban: 48 recordings\n",
      "反二黄散板: 48 recordings\n",
      "erhuang pengban: 43 recordings\n",
      "二黄碰板: 42 recordings\n",
      "二黄三眼: 37 recordings\n",
      "erhuang sanyan: 37 recordings\n",
      "erhuang yaoban: 30 recordings\n",
      "二黄摇板: 30 recordings\n",
      "fanxipi er'liu: 28 recordings\n",
      "反西皮二六: 28 recordings\n",
      "二黄垛板: 26 recordings\n",
      "erhuang duoban: 26 recordings\n",
      "xipi duoban: 20 recordings\n",
      "西皮垛板: 20 recordings\n",
      "xipi xiaodaoban: 16 recordings\n",
      "西皮小导板: 16 recordings\n",
      "erhuang mansanyan: 15 recordings\n",
      "二黄慢三眼: 15 recordings\n",
      "fan'erhuang huilong: 13 recordings\n",
      "反二黄回龙: 13 recordings\n",
      "西皮回龙: 12 recordings\n",
      "xipi huilong: 12 recordings\n",
      "handiao: 11 recordings\n",
      "二黄中三眼: 11 recordings\n",
      "fansipingdiao: 11 recordings\n",
      "反四平调: 11 recordings\n",
      "汉调: 11 recordings\n",
      "erhuang zhongsanyan: 11 recordings\n",
      "xipi kuaisanyan: 10 recordings\n",
      "fanxipi sanban: 10 recordings\n",
      "反二黄导板: 10 recordings\n",
      "反西皮散板: 10 recordings\n",
      "fan'erhuang daoban: 10 recordings\n",
      "西皮快三眼: 10 recordings\n",
      "xipi kutou: 9 recordings\n",
      "二黄二六: 9 recordings\n",
      "西皮哭头: 9 recordings\n",
      "gaobozi daoban: 8 recordings\n",
      "fan'erhuang kuaisanyan: 8 recordings\n",
      "高拨子导板: 8 recordings\n",
      "反二黄快三眼: 8 recordings\n",
      "高拨子回龙: 7 recordings\n",
      "反二黄垛板: 7 recordings\n",
      "fan'erhuang duoban: 7 recordings\n",
      "gaobozi huilong: 7 recordings\n",
      "pipaci: 6 recordings\n",
      "琵琶词: 6 recordings\n",
      "fanxipi yaoban: 5 recordings\n",
      "erhuang er'liu: 5 recordings\n",
      "反西皮摇板: 5 recordings\n",
      "erhuang kuaiban: 4 recordings\n",
      "高拨子摇板: 4 recordings\n",
      "西皮滚板: 4 recordings\n",
      "高拨子原板: 4 recordings\n",
      "二黄小导板: 4 recordings\n",
      "gaobozi yaoban: 4 recordings\n",
      "erhuang erliu: 4 recordings\n",
      "二黄快板: 4 recordings\n",
      "erhuang xiaodaoban: 4 recordings\n",
      "xipi gunban: 4 recordings\n",
      "西皮快二六: 4 recordings\n",
      "gaobozi yuanban: 4 recordings\n",
      "xipi kuai'erliu: 4 recordings\n",
      "erhuang kuai'erliu: 3 recordings\n",
      "反二黄快二六: 3 recordings\n",
      "chuiqiang: 3 recordings\n",
      "gaobozi sanban: 3 recordings\n",
      "xipidaoban: 3 recordings\n",
      "反汉调: 3 recordings\n",
      "erhuangyuanban: 3 recordings\n",
      "西皮快原板: 3 recordings\n",
      "二黄快二六: 3 recordings\n",
      "唢呐二黄原板: 3 recordings\n",
      "xipi kuaiyuanban: 3 recordings\n",
      "吹腔: 3 recordings\n",
      "xipier'liu: 3 recordings\n",
      "xipi mansanyan: 3 recordings\n",
      "fan'erhuang kuai'erliu: 3 recordings\n",
      "xipimanban: 3 recordings\n",
      "唢呐二黄导板: 3 recordings\n",
      "fanhandiao: 3 recordings\n",
      "西皮慢三眼: 3 recordings\n",
      "高拨子散板: 3 recordings\n",
      "fan'erhuang kuaiban: 2 recordings\n",
      "fansipingdiao pengban: 2 recordings\n",
      "汉调原板: 2 recordings\n",
      "erhuang duotou: 2 recordings\n",
      "fanxipi kutou: 2 recordings\n",
      "erhuang kutou: 2 recordings\n",
      "gaobozi kuaiban: 2 recordings\n",
      "二黄垛头: 2 recordings\n",
      "西皮顶板: 2 recordings\n",
      "erhuang kuaiyuanban: 2 recordings\n",
      "反二黄三眼: 2 recordings\n",
      "反西皮哭头: 2 recordings\n",
      "反二黄流水: 2 recordings\n",
      "fan'erhuang er'liu: 2 recordings\n",
      "xipiyaoban: 2 recordings\n",
      "fan'erhuang: 2 recordings\n",
      "高拨子快板: 2 recordings\n",
      "反二黄快板: 2 recordings\n",
      "反二黄摇板: 2 recordings\n",
      "fan'erhuang liushui: 2 recordings\n",
      "唢呐二黄散板: 2 recordings\n",
      "反二黄: 2 recordings\n",
      "fan'erhuang sanyan: 2 recordings\n",
      "xipi erliu: 2 recordings\n",
      "fan'erhuang yaoban: 2 recordings\n",
      "suona'erhuang yuanban: 2 recordings\n",
      "反二黄二六: 2 recordings\n",
      "xipi dingban: 2 recordings\n",
      "反四平调碰板: 2 recordings\n",
      "suona'erhuang daoban: 2 recordings\n",
      "唢呐二黄回龙: 2 recordings\n",
      "二黄哭头: 2 recordings\n",
      "erhuagn yuanban: 1 recording\n",
      "西皮中三眼: 1 recording\n",
      "反四平调导板: 1 recording\n",
      "二黄清板: 1 recording\n",
      "高拨子垛板: 1 recording\n",
      "xipisanban: 1 recording\n",
      "反四平调散板: 1 recording\n",
      "fan'erhuang zhongsanyan: 1 recording\n",
      "二黄垜唱: 1 recording\n",
      "昆曲：[山坡羊]: 1 recording\n",
      "反二黄中三眼: 1 recording\n",
      "suona'erhuangyuanban: 1 recording\n",
      "erhaung manban: 1 recording\n",
      "fanxipi kuaiban: 1 recording\n",
      "erhuangsanban: 1 recording\n",
      "西皮散板转慢板: 1 recording\n",
      "suona'erhuangsanban: 1 recording\n",
      "葬花词: 1 recording\n",
      "xipi man'erliu: 1 recording\n",
      "suona'erhuang sanban: 1 recording\n",
      "erhuanghuilong: 1 recording\n",
      "erhuang: 1 recording\n",
      "erhuang duochang: 1 recording\n",
      "fansipingdiao sanban: 1 recording\n",
      "二黄徽调: 1 recording\n",
      "suona'erhuang huilong: 1 recording\n",
      "erhuang pengbansanyan: 1 recording\n",
      "zanghuaci: 1 recording\n",
      "二黄快原版: 1 recording\n",
      "handiao yuanban: 1 recording\n",
      "xipi sanbanzhuanmanban: 1 recording\n",
      "反四平调原板: 1 recording\n",
      "二黄: 1 recording\n",
      "huangyuanban: 1 recording\n",
      "fan'erhuang mansanyan: 1 recording\n",
      "黄原板: 1 recording\n",
      "xipi kuanban: 1 recording\n",
      "erhuang qingban: 1 recording\n",
      "南梆子流水: 1 recording\n",
      "handiao yaunban: 1 recording\n",
      "gaobozi duoban: 1 recording\n",
      "反西皮快板: 1 recording\n",
      "反二黄慢三眼: 1 recording\n",
      "fansipingdiao daoban: 1 recording\n",
      "erhaung huilong: 1 recording\n",
      "反二黄哭头: 1 recording\n",
      "suona'erhuangdaoban: 1 recording\n",
      "西皮宽板: 1 recording\n",
      "fansipingdiao yuanban: 1 recording\n",
      "二黄吟板: 1 recording\n",
      "erhuang yinban: 1 recording\n",
      "erhuangdaoban: 1 recording\n",
      "西皮慢二六: 1 recording\n",
      "二黄碰板三眼: 1 recording\n",
      "二黄快原板: 1 recording\n",
      "suona'erhuanghuilong: 1 recording\n",
      "二黄 散板: 1 recording\n",
      "erhaung sanban: 1 recording\n",
      "反西皮原板: 1 recording\n",
      "xipi zhongsanyan: 1 recording\n",
      "erhuangmanban: 1 recording\n",
      "fanxipi yuanban: 1 recording\n",
      "erhuanghuidiao: 1 recording\n",
      "fan'erhuang kutou: 1 recording\n",
      "liushui: 1 recording\n",
      "kunqu: 1 recording\n"
     ]
    }
   ],
   "source": [
    "for shb, count in shb_count.most_common():\n",
    "    print(  '{}: {} recording{}'.format(shb, count, '' if count == 1 else 's'))"
   ]
  },
  {
   "cell_type": "code",
   "execution_count": 16,
   "metadata": {},
   "outputs": [],
   "source": [
    "def get_recordings_for_shengqiangbanshi(shengqiangbanshi):\n",
    "    ret = []\n",
    "    for mbid, r in recordings.items():\n",
    "        for s in r['shengqiangbanshi']:\n",
    "            if s['name'] == shengqiangbanshi:\n",
    "                ret.append(r)\n",
    "    return ret"
   ]
  },
  {
   "cell_type": "code",
   "execution_count": 18,
   "metadata": {},
   "outputs": [
    {
     "name": "stdout",
     "output_type": "stream",
     "text": [
      "金龟记 雪冤 7. 慢搬移，禀大人\n",
      "  赵葆秀 [Zhao Baoxiu]\n",
      "  张达谋 [None]\n",
      "  王福隆 [None]\n",
      "  金惠武 [None]\n",
      "《西厢记》 （凄凉萧寺春将晚）\n",
      "  阮宝利 [Ruan Baoli]\n",
      "辕门射戟\n",
      "  叶少兰 [Ye Shaolan]\n",
      "【东郭先生】 见此狼\n",
      "  刘勉宗 [Liu Mianzong]\n",
      "洪母骂畴：大胆狂徒歹心肠\n",
      "  郭瑶瑶 [Guo Yaoyao]\n",
      "《诗文会》： 听兄言不由我花容惊变\n",
      "  王蓉蓉 [Wang Rongrong]\n",
      "  赵莹 [Zhao Ying]\n",
      "  赵旭 [Zhao Xu]\n",
      "  陈敏泽 [None]\n",
      "  杨广同 [Yang Guangtong]\n",
      "  王松涛 [Wang Songtao]\n",
      "  王军 [Wang Jun]\n",
      "  陈浩 [Chen Hao]\n",
      "  于海琴 [Yu Haiqin]\n",
      "  李佳力 [Li Jiali]\n",
      "  郑煜 [Zheng Yu]\n",
      "金龟记：慢搬移，禀大人\n",
      "  赵葆秀 [Zhao Baoxiu]\n",
      "捌．范进中举\n",
      "  张建国 [Zhang Jianguo]\n",
      "  柳东 [Liu Dong]\n",
      "  陈熙凯 [Chen Xikai]\n",
      "  汤振刚 [Tang Zhen'gang]\n",
      "  李金平 [Li Jinping]\n",
      "  李世英 [Li Shiying]\n",
      "四郎探母\n",
      "  赵葆秀 [Zhao Baoxiu]\n",
      "对花枪 1. “我的家祖居南阳地” 反二黄慢板\n",
      "  康静 [Kang Jing]\n",
      "  封千 [Feng Qian]\n",
      "  姚利 [None]\n",
      "金龟记 雪冤 7. 慢搬移，禀大人\n",
      "  赵葆秀 [Zhao Baoxiu]\n",
      "  张达谋 [None]\n",
      "  王福隆 [None]\n",
      "  金惠武 [None]\n",
      "《铡美案》 选段 （包龙图打坐在开封府）\n",
      "  孟广禄 [Meng Guanglu]\n",
      "范进中举（西皮导板、回龙、原板）\n",
      "  张建国 [Zhang Jianguo]\n",
      "  柳东 [Liu Dong]\n",
      "  陈熙凯 [Chen Xikai]\n",
      "  汤振刚 [Tang Zhen'gang]\n",
      "  李金平 [Li Jinping]\n",
      "  李世英 [Li Shiying]\n",
      "赵氏孤儿\n",
      "  薛亚萍 [Xue Yaping]\n",
      "平原作战 【西皮导板】 青纱帐举红缨一望无际\n",
      "  李维康 [Li Weikang]\n",
      "金龟记 雪冤 7. 慢搬移，禀大人\n",
      "  赵葆秀 [Zhao Baoxiu]\n",
      "  张达谋 [None]\n",
      "  王福隆 [None]\n",
      "  金惠武 [None]\n",
      "《诗文会》： 听兄言不由我花容惊变\n",
      "  王蓉蓉 [Wang Rongrong]\n",
      "  赵莹 [Zhao Ying]\n",
      "  赵旭 [Zhao Xu]\n",
      "  陈敏泽 [None]\n",
      "  杨广同 [Yang Guangtong]\n",
      "  王松涛 [Wang Songtao]\n",
      "  王军 [Wang Jun]\n",
      "  陈浩 [Chen Hao]\n",
      "  于海琴 [Yu Haiqin]\n",
      "  李佳力 [Li Jiali]\n",
      "  郑煜 [Zheng Yu]\n",
      "《范进中举》 （西皮导板，原板）\n",
      "  张建峰 [Zhang Jianfeng]\n",
      "  胡希芳 [Hu Xifang]\n",
      "  史迎军 [Shi Yingjun]\n",
      "  马仲昆 [Ma Zhongkun]\n",
      "  朱力傲 [Zhu Li'ao]\n",
      "  冯洪起 [Feng Hongqi]\n",
      "洪母骂畴：大胆狂徒歹心肠\n",
      "  姚利 [None]\n",
      "《铡美案》 选段 （包龙图打坐在开封府）\n",
      "  孟广禄 [Meng Guanglu]\n"
     ]
    }
   ],
   "source": [
    "xipi_duoban_recordings = get_recordings_for_shengqiangbanshi('xipi duoban')\n",
    "for recording in xipi_duoban_recordings:\n",
    "    print(recording['title'])\n",
    "    for perf in recording['performers']:\n",
    "        print('  {} [{}]'.format(perf['name'], perf['alias']))\n"
   ]
  },
  {
   "cell_type": "markdown",
   "metadata": {},
   "source": [
    "## Download recordings by mbids"
   ]
  },
  {
   "cell_type": "markdown",
   "metadata": {},
   "source": [
    "You can download recordings by using ``jingju.download_mp3(recordingid, location)``, the parameter *recordingid* is a mbid and the parameter *location* is where to save mp3s\n"
   ]
  },
  {
   "cell_type": "code",
   "execution_count": null,
   "metadata": {},
   "outputs": [],
   "source": [
    "os.mkdir('./xiaosheng_recordings')\n",
    "for rec in xiaosheng_recs:\n",
    "    jingju.download_mp3(rec, './xiaosheng_recordings')"
   ]
  }
 ],
 "metadata": {
  "kernelspec": {
   "display_name": "Python 3",
   "language": "python",
   "name": "python3"
  },
  "language_info": {
   "codemirror_mode": {
    "name": "ipython",
    "version": 3
   },
   "file_extension": ".py",
   "mimetype": "text/x-python",
   "name": "python",
   "nbconvert_exporter": "python",
   "pygments_lexer": "ipython3",
   "version": "3.5.2"
  }
 },
 "nbformat": 4,
 "nbformat_minor": 2
}
